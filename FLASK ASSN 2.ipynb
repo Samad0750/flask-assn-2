{
 "cells": [
  {
   "cell_type": "markdown",
   "id": "e2f8d3a6-6c01-4e28-90d4-63cea1b97866",
   "metadata": {},
   "source": [
    "QUESTION 1\n",
    "\n",
    "The GET method is used to request the server to GET the data or information. It should not be used with the requesting sensitive data, and there are certain limits to the requesting data. \n",
    "\n",
    "The POST method is used to send the data to the server. It is generally used when we want to upload data or any file to the server, like filling out a form, etc."
   ]
  },
  {
   "cell_type": "markdown",
   "id": "2c33f726-2121-4aeb-8478-385350132afd",
   "metadata": {},
   "source": [
    "QUESTION 2\n",
    "\n",
    "In a Flask App, we have our own Webpage (Client) and a Server. The Server should process the data. The Request, in Flask, is an object that contains all the data sent from the Client to Server. This data can be recovered using the GET/POST Methods"
   ]
  },
  {
   "cell_type": "markdown",
   "id": "4b99c81a-3aee-43bc-8d65-0e8eed92f8dc",
   "metadata": {},
   "source": [
    "QUESTION 3\n",
    "\n",
    "Flask class provides the redirect() function which redirects the user to some specified URL with the specified status code."
   ]
  },
  {
   "cell_type": "markdown",
   "id": "0ca2d404-27bb-4b5f-aab4-44719ff5b0a5",
   "metadata": {},
   "source": [
    "QUESTION 4\n",
    "\n",
    "Templates are files that contain static data as well as placeholders for dynamic data.Render_template is used to generate output from a template file based on the Jinja2 engine that is found in the application's templates folder."
   ]
  },
  {
   "cell_type": "code",
   "execution_count": null,
   "id": "343b9339-4e91-4e2b-bff9-2ece77edfa7b",
   "metadata": {},
   "outputs": [],
   "source": [
    "QUESTION 5\n",
    "\n"
   ]
  }
 ],
 "metadata": {
  "kernelspec": {
   "display_name": "Python 3 (ipykernel)",
   "language": "python",
   "name": "python3"
  },
  "language_info": {
   "codemirror_mode": {
    "name": "ipython",
    "version": 3
   },
   "file_extension": ".py",
   "mimetype": "text/x-python",
   "name": "python",
   "nbconvert_exporter": "python",
   "pygments_lexer": "ipython3",
   "version": "3.10.8"
  }
 },
 "nbformat": 4,
 "nbformat_minor": 5
}
